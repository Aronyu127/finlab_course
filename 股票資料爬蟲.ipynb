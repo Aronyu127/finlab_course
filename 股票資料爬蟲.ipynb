{
 "cells": [
  {
   "cell_type": "code",
   "execution_count": null,
   "metadata": {},
   "outputs": [
    {
     "name": "stderr",
     "output_type": "stream",
     "text": [
      "parse htmls 2018 season 4 stock 2427:  36%|███▌      | 339/945 [3:25:58<5:08:10, 30.51s/it]"
     ]
    },
    {
     "name": "stdout",
     "output_type": "stream",
     "text": [
      "https://mops.twse.com.tw/server-java/t164sb01?step=1&CO_ID=2427&SYEAR=2018&SSEASON=4&REPORT_ID=C\n",
      "**WARRN: requests cannot get stock 2427 .html\n"
     ]
    },
    {
     "name": "stderr",
     "output_type": "stream",
     "text": [
      "parse htmls 2018 season 4 stock 2428:  36%|███▌      | 340/945 [3:26:26<4:59:07, 29.67s/it]"
     ]
    },
    {
     "name": "stdout",
     "output_type": "stream",
     "text": [
      "https://mops.twse.com.tw/server-java/t164sb01?step=1&CO_ID=2428&SYEAR=2018&SSEASON=4&REPORT_ID=C\n",
      "**WARRN: requests cannot get stock 2428 .html\n"
     ]
    },
    {
     "name": "stderr",
     "output_type": "stream",
     "text": [
      "parse htmls 2018 season 4 stock 2429:  36%|███▌      | 341/945 [3:26:59<5:09:42, 30.77s/it]"
     ]
    },
    {
     "name": "stdout",
     "output_type": "stream",
     "text": [
      "https://mops.twse.com.tw/server-java/t164sb01?step=1&CO_ID=2429&SYEAR=2018&SSEASON=4&REPORT_ID=C\n",
      "**WARRN: requests cannot get stock 2429 .html\n"
     ]
    }
   ],
   "source": [
    "from finlab.crawler import (\n",
    "    widget, \n",
    "    \n",
    "    crawl_price, \n",
    "    crawl_monthly_report, \n",
    "    crawl_finance_statement_by_date,\n",
    "    \n",
    "    date_range, month_range, season_range\n",
    ")\n",
    "\n",
    "import sqlite3\n",
    "import os\n",
    "conn = sqlite3.connect(os.path.join('data', \"data.db\"))\n",
    "\n",
    "widget(conn, 'price', crawl_price, date_range)\n",
    "widget(conn, 'monthly_revenue', crawl_monthly_report, month_range)\n",
    "widget(conn, 'finance_statement', crawl_finance_statement_by_date, season_range)"
   ]
  },
  {
   "cell_type": "markdown",
   "metadata": {},
   "source": [
    "# 時間區間範例："
   ]
  },
  {
   "cell_type": "code",
   "execution_count": 3,
   "metadata": {},
   "outputs": [
    {
     "name": "stdout",
     "output_type": "stream",
     "text": [
      "2010年抓取財報的時間點是\n"
     ]
    },
    {
     "ename": "NameError",
     "evalue": "name 'datetime' is not defined",
     "output_type": "error",
     "traceback": [
      "\u001b[0;31m---------------------------------------------------------------------------\u001b[0m",
      "\u001b[0;31mNameError\u001b[0m                                 Traceback (most recent call last)",
      "\u001b[0;32m<ipython-input-3-cbf54db0d817>\u001b[0m in \u001b[0;36m<module>\u001b[0;34m\u001b[0m\n\u001b[1;32m      1\u001b[0m \u001b[0mprint\u001b[0m\u001b[0;34m(\u001b[0m\u001b[0;34m'2010年抓取財報的時間點是'\u001b[0m\u001b[0;34m)\u001b[0m\u001b[0;34m\u001b[0m\u001b[0;34m\u001b[0m\u001b[0m\n\u001b[0;32m----> 2\u001b[0;31m \u001b[0mseason_range\u001b[0m\u001b[0;34m(\u001b[0m\u001b[0mdatetime\u001b[0m\u001b[0;34m.\u001b[0m\u001b[0mdate\u001b[0m\u001b[0;34m(\u001b[0m\u001b[0;36m2010\u001b[0m\u001b[0;34m,\u001b[0m\u001b[0;36m1\u001b[0m\u001b[0;34m,\u001b[0m\u001b[0;36m1\u001b[0m\u001b[0;34m)\u001b[0m\u001b[0;34m,\u001b[0m \u001b[0mdatetime\u001b[0m\u001b[0;34m.\u001b[0m\u001b[0mdate\u001b[0m\u001b[0;34m(\u001b[0m\u001b[0;36m2011\u001b[0m\u001b[0;34m,\u001b[0m\u001b[0;36m1\u001b[0m\u001b[0;34m,\u001b[0m\u001b[0;36m1\u001b[0m\u001b[0;34m)\u001b[0m\u001b[0;34m)\u001b[0m\u001b[0;34m\u001b[0m\u001b[0;34m\u001b[0m\u001b[0m\n\u001b[0m",
      "\u001b[0;31mNameError\u001b[0m: name 'datetime' is not defined"
     ]
    }
   ],
   "source": [
    "print('2010年抓取財報的時間點是')\n",
    "season_range(datetime.date(2010,1,1), datetime.date(2011,1,1))"
   ]
  },
  {
   "cell_type": "markdown",
   "metadata": {},
   "source": [
    "# 每季財報 時間區間補充：\n",
    "\n",
    "關於每季財報爬取，選取的時間範圍要「包含」以下時段，就能夠爬到截止日期的財報囉！例如：\n",
    "\n",
    "* 2010年3月31號 --> 2009 第四季\n",
    "* 2010年5月15號 --> 2010 第一季\n",
    "* 2010年8月14號 --> 2010 第二季\n",
    "* 2010年11月14號 --> 2010 第三季\n",
    "\n",
    "所以假如我們想要抓2018年的第一季，就可以輸入一個時間範圍，例如：\n",
    "\n",
    "* 2018年5月01號 到 2018年5月31號\n",
    "\n",
    "因為這段時間有包含 2018年5月15號，所以就會下載 2018年第一季的財報喔！"
   ]
  },
  {
   "cell_type": "markdown",
   "metadata": {},
   "source": [
    "# 程式化更新資料"
   ]
  },
  {
   "cell_type": "code",
   "execution_count": 2,
   "metadata": {
    "collapsed": true
   },
   "outputs": [],
   "source": [
    "import datetime\n",
    "from finlab.crawler import update_table\n",
    "#update_table(conn, 'price', crawl_price, [datetime.date(2018,3,26)])\n",
    "#update_table(conn, 'monthly_revenue', crawl_monthly_report, [datetime.date(2018,3,1)])\n",
    "#update_table(conn, 'finance_statement', crawl_finance_statement_by_date, [datetime.date(2018,3,31)])"
   ]
  }
 ],
 "metadata": {
  "kernelspec": {
   "display_name": "Python 3",
   "language": "python",
   "name": "python3"
  },
  "language_info": {
   "codemirror_mode": {
    "name": "ipython",
    "version": 3
   },
   "file_extension": ".py",
   "mimetype": "text/x-python",
   "name": "python",
   "nbconvert_exporter": "python",
   "pygments_lexer": "ipython3",
   "version": "3.8.5"
  }
 },
 "nbformat": 4,
 "nbformat_minor": 2
}
